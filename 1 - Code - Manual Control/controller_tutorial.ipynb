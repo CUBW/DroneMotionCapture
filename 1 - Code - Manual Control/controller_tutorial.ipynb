{
 "cells": [
  {
   "cell_type": "code",
   "execution_count": null,
   "metadata": {},
   "outputs": [],
   "source": [
    "import pygame\n",
    "\n",
    "# Initialize the pygame module\n",
    "pygame.init()\n",
    "\n",
    "# Create a controller object\n",
    "controller = pygame.joystick.Joystick(0)\n",
    "\n",
    "# Get the name of the controller\n",
    "controller_name = controller.get_name()\n",
    "\n",
    "print(\"Controller name:\", controller_name)\n",
    "\n"
   ]
  },
  {
   "cell_type": "code",
   "execution_count": null,
   "metadata": {},
   "outputs": [],
   "source": [
    "# Get the number of buttons on the controller\n",
    "num_buttons = controller.get_numbuttons()\n",
    "\n",
    "# Print the name of the joystick and the number of buttons\n",
    "print(\"Number of buttons:\", num_buttons)\n",
    "\n",
    "# Get the number of axes\n",
    "num_axes = controller.get_count()\n",
    "\n",
    "print(\"Number of axes:\", num_axes)\n",
    "print(controller)"
   ]
  },
  {
   "cell_type": "markdown",
   "metadata": {},
   "source": [
    "From trial and error:\n",
    "axis 0 = left joystick left = -1 and right = 1\n",
    "axis 1 = left joystick up = -1 and down = 1\n",
    "axis 2 = right joystick left = -1 and right = 1\n",
    "axis 3 = right joystick up = -1 and down = 1\n",
    "axis 4 = left trigger nothing = -1 and pressed = 1\n",
    "axis 5 = right trigger nothing = -1 and pressed = 1\n",
    "\n"
   ]
  },
  {
   "cell_type": "code",
   "execution_count": null,
   "metadata": {},
   "outputs": [],
   "source": [
    "# Get the state of the joystick axes\n",
    "while True:\n",
    "    axes = controller.get_axis(0)\n",
    "\n",
    "    # Print the state of the joystick axes\n",
    "    print(\"Axes:\", axes)"
   ]
  },
  {
   "cell_type": "code",
   "execution_count": null,
   "metadata": {},
   "outputs": [],
   "source": [
    "\n",
    "\n",
    "# Loop until the user clicks the close button\n",
    "while True:\n",
    "\n",
    "    # Get the events that have happened since the last time the loop ran\n",
    "    for event in pygame.event.get():\n",
    "\n",
    "        # If the user clicked the close button, quit the program\n",
    "        if event.type == pygame.QUIT:\n",
    "            pygame.quit()\n",
    "            sys.exit()\n",
    "\n",
    "        # If a button was pressed, print the button number\n",
    "        if event.type == pygame.JOYBUTTONDOWN:\n",
    "            print(\"Button\", event.button, \"was pressed\")\n",
    "\n",
    "        # If a button was released, print the button number\n",
    "        if event.type == pygame.JOYBUTTONUP:\n",
    "            print(\"Button\", event.button, \"was released\")"
   ]
  },
  {
   "cell_type": "markdown",
   "metadata": {},
   "source": [
    "Circle = button 1\n",
    "x = button 0\n",
    "triangle = button 3\n",
    "square = button 2\n",
    "d_pad up = button 11\n",
    "d_pad down = button 12\n",
    "d_pad left = button 13\n",
    "d_pad right = button 14\n",
    "right bumper = button 10\n",
    "left bumper = button 9\n",
    "left joystick click = button 7\n",
    "right joystick click = button 8\n",
    "three lines = button 6\n",
    "flashy looking thing = button 4\n",
    "playstation logo = button 5\n",
    "track pad click = button 15"
   ]
  }
 ],
 "metadata": {
  "kernelspec": {
   "display_name": "base",
   "language": "python",
   "name": "python3"
  },
  "language_info": {
   "codemirror_mode": {
    "name": "ipython",
    "version": 3
   },
   "file_extension": ".py",
   "mimetype": "text/x-python",
   "name": "python",
   "nbconvert_exporter": "python",
   "pygments_lexer": "ipython3",
   "version": "3.10.9"
  }
 },
 "nbformat": 4,
 "nbformat_minor": 2
}
